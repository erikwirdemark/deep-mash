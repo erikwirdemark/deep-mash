{
 "cells": [
  {
   "cell_type": "code",
   "execution_count": 3,
   "id": "acefdb69",
   "metadata": {},
   "outputs": [],
   "source": [
    "import os\n",
    "import numpy as np\n",
    "\n",
    "from deepmash.data_processing.preprocess import preprocess_gtzan_stems\n",
    "from deepmash.utils import test"
   ]
  },
  {
   "cell_type": "code",
   "execution_count": null,
   "id": "7d486380",
   "metadata": {},
   "outputs": [
    {
     "data": {
      "text/plain": [
       "4"
      ]
     },
     "execution_count": 4,
     "metadata": {},
     "output_type": "execute_result"
    }
   ],
   "source": [
    "preprocess_gtzan_stems(\"dpw\")"
   ]
  }
 ],
 "metadata": {
  "kernelspec": {
   "display_name": "deep-mash",
   "language": "python",
   "name": "python3"
  },
  "language_info": {
   "codemirror_mode": {
    "name": "ipython",
    "version": 3
   },
   "file_extension": ".py",
   "mimetype": "text/x-python",
   "name": "python",
   "nbconvert_exporter": "python",
   "pygments_lexer": "ipython3",
   "version": "3.13.5"
  }
 },
 "nbformat": 4,
 "nbformat_minor": 5
}
