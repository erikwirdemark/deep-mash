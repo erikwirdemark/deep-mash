{
 "cells": [
  {
   "cell_type": "code",
   "execution_count": null,
   "id": "acefdb69",
   "metadata": {},
   "outputs": [],
   "source": [
    "from deepmash.data_processing.preprocess import preprocess_gtzan_stems"
   ]
  },
  {
   "cell_type": "code",
   "execution_count": null,
   "id": "7d486380",
   "metadata": {},
   "outputs": [
    {
     "data": {
      "application/vnd.jupyter.widget-view+json": {
       "model_id": "9e73c34987f546c5b3624e370146fe5f",
       "version_major": 2,
       "version_minor": 0
      },
      "text/plain": [
       "  0%|          | 0/1000 [00:00<?, ?it/s]"
      ]
     },
     "metadata": {},
     "output_type": "display_data"
    }
   ],
   "source": [
    "preprocess_gtzan_stems()"
   ]
  }
 ],
 "metadata": {
  "kernelspec": {
   "display_name": "deep-mash",
   "language": "python",
   "name": "python3"
  },
  "language_info": {
   "codemirror_mode": {
    "name": "ipython",
    "version": 3
   },
   "file_extension": ".py",
   "mimetype": "text/x-python",
   "name": "python",
   "nbconvert_exporter": "python",
   "pygments_lexer": "ipython3",
   "version": "3.13.5"
  }
 },
 "nbformat": 4,
 "nbformat_minor": 5
}
