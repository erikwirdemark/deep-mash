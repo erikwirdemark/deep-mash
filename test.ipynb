{
 "cells": [
  {
   "cell_type": "code",
   "execution_count": null,
   "id": "acefdb69",
   "metadata": {},
   "outputs": [
    {
     "ename": "ModuleNotFoundError",
     "evalue": "No module named 'wget'",
     "output_type": "error",
     "traceback": [
      "\u001b[0;31m---------------------------------------------------------------------------\u001b[0m",
      "\u001b[0;31mModuleNotFoundError\u001b[0m                       Traceback (most recent call last)",
      "\u001b[0;32m/var/folders/vy/y6v2xt3132qc90p4yqf3dmd00000gn/T/ipykernel_65847/3372241419.py\u001b[0m in \u001b[0;36m<cell line: 0>\u001b[0;34m()\u001b[0m\n\u001b[0;32m----> 1\u001b[0;31m \u001b[0;32mimport\u001b[0m \u001b[0mwget\u001b[0m\u001b[0;34m\u001b[0m\u001b[0;34m\u001b[0m\u001b[0m\n\u001b[0m",
      "\u001b[0;31mModuleNotFoundError\u001b[0m: No module named 'wget'"
     ]
    }
   ],
   "source": [
    "import soundfile\n",
    "import librosa\n",
    "\n",
    "def get_audio(path: str, target_sr: int=SR) -> tuple[np.ndarray, int]:\n",
    "    \"\"\" \n",
    "    Returns (y, src_sr), where y is float32 mono array resampled @ target_sr hz.\n",
    "    \"\"\"\n",
    "    y, src_sr = soundfile.read(path, dtype=\"float32\")\n",
    "    if y.ndim > 1: y = librosa.to_mono(y.T)\n",
    "    if src_sr != SR: y = librosa.resample(y, orig_sr=src_sr, target_sr=target_sr)\n",
    "    return y, src_sr\n"
   ]
  }
 ],
 "metadata": {
  "kernelspec": {
   "display_name": "musik-dt2470",
   "language": "python",
   "name": "python3"
  },
  "language_info": {
   "codemirror_mode": {
    "name": "ipython",
    "version": 3
   },
   "file_extension": ".py",
   "mimetype": "text/x-python",
   "name": "python",
   "nbconvert_exporter": "python",
   "pygments_lexer": "ipython3",
   "version": "3.13.7"
  }
 },
 "nbformat": 4,
 "nbformat_minor": 5
}
